{
 "cells": [
  {
   "cell_type": "markdown",
   "metadata": {},
   "source": [
    "# <a href=\"https://www.givingback.ai\" target=\"_blank\"><img src=\"https://givingback.ai/assets/gblogo.72c0863b.svg\"  align=\"center\" height=\"48\" width=\"48\" style=\"background-color: black;\"></a>  GivingbackAI - Education - [Title]\n"
   ]
  },
  {
   "cell_type": "markdown",
   "metadata": {},
   "source": [
    "*Note:*\n",
    "> <div style=\"background-color: #; border: 1px solid red; padding: 10px; font-weight: bold;\">The following content is a property of GivingbackAI.</div>\n",
    "> <div style=\"background-color: #; border: 1px solid red; padding: 10px; font-weight: bold;\">GivingbackAI - Education: MIT Licensed Use Only.</div>\n",
    "\n",
    "- Audience: Students enrolled at GivingbackAI Education.\n",
    "- Contributed by: Sanjib Lamichhane \n",
    "- Reviewer(s): Sanjib Lamichhane \n",
    "- Date (YYYY/MM/DD): 2023/05/06\n",
    "- Version: v1(WIP)\n",
    "---"
   ]
  },
  {
   "cell_type": "code",
   "execution_count": 4,
   "metadata": {},
   "outputs": [
    {
     "data": {
      "text/plain": [
       "True"
      ]
     },
     "execution_count": 4,
     "metadata": {},
     "output_type": "execute_result"
    }
   ],
   "source": [
    "from dotenv import load_dotenv\n",
    "import os\n",
    "load_dotenv()"
   ]
  },
  {
   "cell_type": "code",
   "execution_count": 7,
   "metadata": {},
   "outputs": [
    {
     "name": "stdout",
     "output_type": "stream",
     "text": [
      "Sachinbk.ofiiicial@gmail.com\n",
      "Justforthetest\n"
     ]
    }
   ],
   "source": [
    "##access values from the env file\n",
    "my_email = os.getenv(\"EMAIL\")\n",
    "my_password = os.getenv(\"PASSWORD\")\n",
    "print(my_email)\n",
    "print(my_password)"
   ]
  },
  {
   "cell_type": "code",
   "execution_count": null,
   "metadata": {},
   "outputs": [],
   "source": []
  }
 ],
 "metadata": {
  "kernelspec": {
   "display_name": "Python 3",
   "language": "python",
   "name": "python3"
  },
  "language_info": {
   "codemirror_mode": {
    "name": "ipython",
    "version": 3
   },
   "file_extension": ".py",
   "mimetype": "text/x-python",
   "name": "python",
   "nbconvert_exporter": "python",
   "pygments_lexer": "ipython3",
   "version": "3.10.13"
  },
  "orig_nbformat": 4
 },
 "nbformat": 4,
 "nbformat_minor": 2
}
