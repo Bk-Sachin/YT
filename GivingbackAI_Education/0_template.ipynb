{
 "cells": [
  {
   "cell_type": "markdown",
   "metadata": {},
   "source": [
    "# <a href=\"https://www.givingback.ai\" target=\"_blank\"><img src=\"https://givingback.ai/assets/gblogo.72c0863b.svg\"  align=\"center\" height=\"48\" width=\"48\" style=\"background-color: black;\"></a>  GivingbackAI - Education - [Title]\n"
   ]
  },
  {
   "cell_type": "markdown",
   "metadata": {},
   "source": [
    "*Note:*\n",
    "> <div style=\"background-color: #; border: 1px solid red; padding: 10px; font-weight: bold;\">The following content is a property of GivingbackAI.</div>\n",
    "> <div style=\"background-color: #; border: 1px solid red; padding: 10px; font-weight: bold;\">GivingbackAI - Education: MIT Licensed Use Only.</div>\n",
    "\n",
    "- Audience: Students enrolled at GivingbackAI Education.\n",
    "- Contributed by: Sanjib Lamichhane \n",
    "- Reviewer(s): Sanjib Lamichhane \n",
    "- Date (YYYY/MM/DD): 2023/05/06\n",
    "- Version: v1(WIP)\n",
    "---"
   ]
  }
 ],
 "metadata": {
  "language_info": {
   "name": "python"
  },
  "orig_nbformat": 4
 },
 "nbformat": 4,
 "nbformat_minor": 2
}
